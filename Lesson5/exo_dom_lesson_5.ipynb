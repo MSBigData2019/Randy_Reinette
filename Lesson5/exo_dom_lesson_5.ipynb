{
 "cells": [
  {
   "cell_type": "code",
   "execution_count": 1,
   "metadata": {},
   "outputs": [],
   "source": [
    "import pandas as pd\n",
    "import matplotlib.pyplot as plt"
   ]
  },
  {
   "cell_type": "code",
   "execution_count": 2,
   "metadata": {
    "collapsed": true
   },
   "outputs": [],
   "source": [
    "df_medecins = pd.DataFrame.from_csv(\"medecins_2016.csv\")\n",
    "df_pop = pd.DataFrame.from_csv(\"population_2016.csv\")"
   ]
  },
  {
   "cell_type": "code",
   "execution_count": 3,
   "metadata": {},
   "outputs": [],
   "source": [
    "df_pop['DEPARTEMENT'] = df_pop.index +'- ' + df_pop['DEPARTEMENT']"
   ]
  },
  {
   "cell_type": "code",
   "execution_count": 4,
   "metadata": {},
   "outputs": [],
   "source": [
    "df_medecins = df_medecins.replace('04- Alpes-Hte-Provence','04- Alpes-de-Haute-Provence')\n",
    "df_medecins = df_medecins.replace('971- Guadeloupe','971- Guadeloupe ')\n",
    "df_medecins = df_medecins.replace('972- Martinique','972- Martinique ')\n",
    "df_medecins = df_medecins.replace('974- Réunion','974- La Réunion')\n",
    "df_medecins = df_medecins.replace('93- Seine-St-Denis','93- Seine-Saint-Denis')\n",
    "df_medecins = df_medecins.replace('75- Paris (Ville)','75- Paris')\n",
    "df_medecins = df_medecins.replace('90- Terr. de Belfort','90- Territoire de Belfort')\n",
    "df_medecins[df_medecins['DEPASSEMENTS'] == 'nc'] = int(0)\n",
    "df_medecins['DEPASSEMENTS'] = df_medecins['DEPASSEMENTS'].astype('float64')"
   ]
  },
  {
   "cell_type": "code",
   "execution_count": 5,
   "metadata": {},
   "outputs": [],
   "source": [
    "df_medecins = df_medecins.join(df_pop.set_index('DEPARTEMENT'), on='DEPARTEMENT')"
   ]
  },
  {
   "cell_type": "code",
   "execution_count": 6,
   "metadata": {},
   "outputs": [],
   "source": [
    "df_medecins_total = df_medecins[df_medecins['Total'].isnull()]\n",
    "df_medecins = df_medecins[~df_medecins['Total'].isnull()]"
   ]
  },
  {
   "cell_type": "code",
   "execution_count": 10,
   "metadata": {},
   "outputs": [
    {
     "data": {
      "image/png": "[encoded data removed]",
      "text/plain": [
       "<matplotlib.figure.Figure at 0x114addd30>"
      ]
     },
     "metadata": {},
     "output_type": "display_data"
    }
   ],
   "source": [
    "df_medecins.plot.scatter(x='Total',y='DEPASSEMENTS')\n",
    "plt.show()"
   ]
  },
  {
   "cell_type": "code",
   "execution_count": null,
   "metadata": {},
   "outputs": [],
   "source": []
  },
  {
   "cell_type": "code",
   "execution_count": null,
   "metadata": {
    "collapsed": true
   },
   "outputs": [],
   "source": []
  }
 ],
 "metadata": {
  "kernelspec": {
   "display_name": "Python 3",
   "language": "python",
   "name": "python3"
  },
  "language_info": {
   "codemirror_mode": {
    "name": "ipython",
    "version": 3
   },
   "file_extension": ".py",
   "mimetype": "text/x-python",
   "name": "python",
   "nbconvert_exporter": "python",
   "pygments_lexer": "ipython3",
   "version": "3.6.2"
  }
 },
 "nbformat": 4,
 "nbformat_minor": 2
}
