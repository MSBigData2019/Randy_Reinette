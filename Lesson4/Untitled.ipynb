{
 "cells": [
  {
   "cell_type": "code",
   "execution_count": 1,
   "metadata": {
    "collapsed": true
   },
   "outputs": [],
   "source": [
    "import requests\n",
    "base_url = \"https://www.open-medicaments.fr/api/v1/medicaments?query=\"\n",
    "\n",
    "def _handle_request_and_get_soup(request_result):\n",
    "    if request_result.status_code == 200:\n",
    "            html_doc =  request_result.text\n",
    "            soup = BeautifulSoup(html_doc,\"html.parser\")\n",
    "    return soup\n",
    "def get_all_meds_name(soup):\n",
    "    "
   ]
  },
  {
   "cell_type": "code",
   "execution_count": null,
   "metadata": {
    "collapsed": true
   },
   "outputs": [],
   "source": [
    "def"
   ]
  }
 ],
 "metadata": {
  "kernelspec": {
   "display_name": "Python 3",
   "language": "python",
   "name": "python3"
  },
  "language_info": {
   "codemirror_mode": {
    "name": "ipython",
    "version": 3
   },
   "file_extension": ".py",
   "mimetype": "text/x-python",
   "name": "python",
   "nbconvert_exporter": "python",
   "pygments_lexer": "ipython3",
   "version": "3.6.2"
  }
 },
 "nbformat": 4,
 "nbformat_minor": 2
}
